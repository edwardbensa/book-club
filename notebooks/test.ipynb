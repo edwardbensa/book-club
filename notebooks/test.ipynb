{
 "cells": [
  {
   "cell_type": "code",
   "execution_count": null,
   "id": "a4a6b23f",
   "metadata": {},
   "outputs": [
    {
     "name": "stderr",
     "output_type": "stream",
     "text": [
      "\u001b[32m2025-08-17 00:20:43.323\u001b[0m | \u001b[1mINFO    \u001b[0m | \u001b[36msrc.config\u001b[0m:\u001b[36m<module>\u001b[0m:\u001b[36m11\u001b[0m - \u001b[1mPROJ_ROOT path is: /Users/Edward/Documents/GitHub/book-club\u001b[0m\n"
     ]
    }
   ],
   "source": [
    "# Import necessary modules\n",
    "from loguru import logger\n",
    "from datetime import datetime\n",
    "from src.elt.transforms.utils import connect_mongodb"
   ]
  },
  {
   "cell_type": "code",
   "execution_count": 2,
   "id": "ef477f84",
   "metadata": {},
   "outputs": [
    {
     "name": "stdout",
     "output_type": "stream",
     "text": [
      "\u001b[32m2025-08-17 00:20:43.924\u001b[0m | \u001b[1mINFO    \u001b[0m | \u001b[36msrc.elt.transforms.utils\u001b[0m:\u001b[36mconnect_mongodb\u001b[0m:\u001b[36m17\u001b[0m - \u001b[1mSuccessfully connected to MongoDB\u001b[0m\n",
      "\u001b[32m2025-08-17 00:20:43.958\u001b[0m | \u001b[32m\u001b[1mSUCCESS \u001b[0m | \u001b[36m__main__\u001b[0m:\u001b[36mcount_books_read_this_year\u001b[0m:\u001b[36m38\u001b[0m - \u001b[32m\u001b[1mA total of 42 books were read this year.\u001b[0m\n",
      "\u001b[32m2025-08-17 00:20:43.980\u001b[0m | \u001b[1mINFO    \u001b[0m | \u001b[36m__main__\u001b[0m:\u001b[36mcount_books_read_this_year\u001b[0m:\u001b[36m46\u001b[0m - \u001b[1mMongoDB connection closed.\u001b[0m\n"
     ]
    }
   ],
   "source": [
    "def count_books_read_this_year():\n",
    "    \"\"\"\n",
    "    Connects to the MongoDB database and counts the number of books read\n",
    "    by all users in the current year.\n",
    "    \"\"\"\n",
    "    db, client = connect_mongodb()\n",
    "\n",
    "    # Get the current year\n",
    "    current_year = datetime.now().year\n",
    "\n",
    "    # Define the aggregation pipeline\n",
    "    pipeline = [\n",
    "        # Match documents with a completed date in the current year\n",
    "        {\n",
    "            \"$match\": {\n",
    "                \"date_completed\": {\n",
    "                    \"$gte\": datetime(current_year, 1, 1),\n",
    "                    \"$lt\": datetime(current_year + 1, 1, 1)\n",
    "                }\n",
    "            }\n",
    "        },\n",
    "        # Group all matched documents and count them\n",
    "        {\n",
    "            \"$group\": {\n",
    "                \"_id\": None,\n",
    "                \"total_books_read\": {\"$count\": {}}\n",
    "            }\n",
    "        }\n",
    "    ]\n",
    "\n",
    "    try:\n",
    "        # Execute the pipeline\n",
    "        results = list(db[\"user_reads\"].aggregate(pipeline))\n",
    "        \n",
    "        # Extract the total count\n",
    "        if results:\n",
    "            total_books_read = results[0][\"total_books_read\"]\n",
    "            logger.success(f\"A total of {total_books_read} books were read this year.\")\n",
    "        else:\n",
    "            logger.info(\"No books were read this year.\")\n",
    "            \n",
    "    except Exception as e:\n",
    "        logger.error(f\"An error occurred during aggregation: {e}\")\n",
    "    finally:\n",
    "        client.close()\n",
    "        logger.info(\"MongoDB connection closed.\")\n",
    "\n",
    "if __name__ == \"__main__\":\n",
    "    count_books_read_this_year()\n",
    "\n"
   ]
  }
 ],
 "metadata": {
  "kernelspec": {
   "display_name": "vanilla",
   "language": "python",
   "name": "python3"
  },
  "language_info": {
   "codemirror_mode": {
    "name": "ipython",
    "version": 3
   },
   "file_extension": ".py",
   "mimetype": "text/x-python",
   "name": "python",
   "nbconvert_exporter": "python",
   "pygments_lexer": "ipython3",
   "version": "3.12.2"
  }
 },
 "nbformat": 4,
 "nbformat_minor": 5
}
